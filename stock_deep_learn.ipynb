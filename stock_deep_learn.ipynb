{
 "cells": [
  {
   "cell_type": "code",
   "execution_count": 764,
   "metadata": {},
   "outputs": [],
   "source": [
    "import numpy as np\n",
    "import pandas as pd\n",
    "import matplotlib.pyplot as plt\n",
    "from sklearn.model_selection import train_test_split\n",
    "from keras.models import Sequential\n",
    "from keras.callbacks import EarlyStopping\n",
    "from keras.layers import Dense, Activation, Dropout\n",
    "from keras.utils.vis_utils import plot_model\n",
    "from keras.utils import np_utils"
   ]
  },
  {
   "cell_type": "code",
   "execution_count": 765,
   "metadata": {},
   "outputs": [],
   "source": [
    "# CSVデータの読み込み\n",
    "csv_list = [\"TimeChart_cyber.csv\", \"TimeChart_JT.csv\", \"TimeChart_kose.csv\"] # CSVファイルのリスト\n",
    "data = pd.read_csv('csv/' + csv_list[2], encoding=\"UTF-8\", index_col=\"日付\", parse_dates=True) # CSVファイルの読み込み"
   ]
  },
  {
   "cell_type": "code",
   "execution_count": 766,
   "metadata": {},
   "outputs": [],
   "source": [
    "# データの整形\n",
    "data = data.sort_values(\"日付\") # 昔のデータから順番にsort\n",
    "max_num = data[\"始値\"].max()\n",
    "data[\"始値\"] /= max_num\n",
    "X = data[\"始値\"]"
   ]
  },
  {
   "cell_type": "code",
   "execution_count": 767,
   "metadata": {},
   "outputs": [],
   "source": [
    "# 訓練データとテストデータに分割\n",
    "train = X[:len(X) * 4 // 5]\n",
    "test = X[len(X) * 4 // 5:]\n",
    "\n",
    "# 学習する過去何日分かのデータの作成をする関数の定義\n",
    "interval = 10\n",
    "def make_data(data, interval=10):\n",
    "    input_tensor = [] # 学習データ\n",
    "    output_tensor = [] # 結果\n",
    "    open_price = list(data)\n",
    "    for i in range(len(open_price)):\n",
    "        if i < interval:\n",
    "            continue\n",
    "        output_tensor.append(open_price[i])\n",
    "        z = []\n",
    "        for j in range(interval):\n",
    "            d = i + j -interval\n",
    "            z.append(open_price[d])\n",
    "        input_tensor.append(z)\n",
    "    return (input_tensor, output_tensor)\n",
    "\n",
    "# 関数の実行\n",
    "X_train, y_train = make_data(train)\n",
    "X_test, y_test = make_data(test)"
   ]
  },
  {
   "cell_type": "code",
   "execution_count": 768,
   "metadata": {},
   "outputs": [
    {
     "name": "stdout",
     "output_type": "stream",
     "text": [
      "Model: \"sequential_82\"\n",
      "_________________________________________________________________\n",
      "Layer (type)                 Output Shape              Param #   \n",
      "=================================================================\n",
      "dense_164 (Dense)            (None, 5)                 55        \n",
      "_________________________________________________________________\n",
      "activation_164 (Activation)  (None, 5)                 0         \n",
      "_________________________________________________________________\n",
      "dropout_82 (Dropout)         (None, 5)                 0         \n",
      "_________________________________________________________________\n",
      "dense_165 (Dense)            (None, 1)                 6         \n",
      "_________________________________________________________________\n",
      "activation_165 (Activation)  (None, 1)                 0         \n",
      "=================================================================\n",
      "Total params: 61\n",
      "Trainable params: 61\n",
      "Non-trainable params: 0\n",
      "_________________________________________________________________\n"
     ]
    }
   ],
   "source": [
    "# モデルの構造を定義\n",
    "model = Sequential()\n",
    "model.add(Dense(5, input_shape=(interval,)))\n",
    "model.add(Activation('relu'))\n",
    "model.add(Dropout(0.3))\n",
    "\n",
    "model.add(Dense(1))\n",
    "model.add(Activation('linear'))\n",
    "\n",
    "model.summary()"
   ]
  },
  {
   "cell_type": "code",
   "execution_count": 769,
   "metadata": {},
   "outputs": [
    {
     "name": "stdout",
     "output_type": "stream",
     "text": [
      "Epoch 1/50\n",
      "83/83 [==============================] - 0s 648us/step - loss: 0.0058 - mae: 0.0402\n",
      "Epoch 2/50\n",
      "83/83 [==============================] - 0s 689us/step - loss: 0.0036 - mae: 0.0303\n",
      "Epoch 3/50\n",
      "83/83 [==============================] - 0s 682us/step - loss: 0.0024 - mae: 0.0272\n",
      "Epoch 4/50\n",
      "83/83 [==============================] - 0s 673us/step - loss: 0.0022 - mae: 0.0244\n",
      "Epoch 5/50\n",
      "83/83 [==============================] - 0s 641us/step - loss: 0.0019 - mae: 0.0231\n",
      "Epoch 6/50\n",
      "83/83 [==============================] - 0s 671us/step - loss: 0.0022 - mae: 0.0255\n",
      "Epoch 7/50\n",
      "83/83 [==============================] - 0s 634us/step - loss: 0.0021 - mae: 0.0246\n",
      "Epoch 8/50\n",
      "83/83 [==============================] - 0s 639us/step - loss: 0.0021 - mae: 0.0254\n",
      "Epoch 9/50\n",
      "83/83 [==============================] - 0s 626us/step - loss: 0.0018 - mae: 0.0224\n",
      "Epoch 10/50\n",
      "83/83 [==============================] - 0s 617us/step - loss: 0.0018 - mae: 0.0236\n",
      "Epoch 11/50\n",
      "83/83 [==============================] - 0s 671us/step - loss: 0.0013 - mae: 0.0215\n",
      "Epoch 12/50\n",
      "83/83 [==============================] - 0s 628us/step - loss: 0.0024 - mae: 0.0260\n",
      "Epoch 13/50\n",
      "83/83 [==============================] - 0s 640us/step - loss: 0.0023 - mae: 0.0265\n",
      "Epoch 14/50\n",
      "83/83 [==============================] - 0s 722us/step - loss: 0.0023 - mae: 0.0259\n",
      "Epoch 15/50\n",
      "83/83 [==============================] - 0s 787us/step - loss: 0.0023 - mae: 0.0246\n",
      "Epoch 16/50\n",
      "83/83 [==============================] - 0s 731us/step - loss: 0.0019 - mae: 0.0242\n"
     ]
    },
    {
     "data": {
      "text/plain": [
       "<tensorflow.python.keras.callbacks.History at 0x14d8e1490>"
      ]
     },
     "execution_count": 769,
     "metadata": {},
     "output_type": "execute_result"
    }
   ],
   "source": [
    "# モデルを構築\n",
    "model.compile(optimizer='adam', loss='mse', metrics=['mae'])\n",
    "\n",
    "earlystopping = EarlyStopping(monitor='loss', patience=5)\n",
    "model.fit(X_train, y_train, batch_size=10, epochs=50, callbacks=[earlystopping])"
   ]
  },
  {
   "cell_type": "code",
   "execution_count": 770,
   "metadata": {},
   "outputs": [
    {
     "data": {
      "image/png": "[encoded data removed]",
      "text/plain": [
       "<Figure size 432x288 with 1 Axes>"
      ]
     },
     "metadata": {
      "needs_background": "light"
     },
     "output_type": "display_data"
    }
   ],
   "source": [
    "predicted = model.predict(X_test)\n",
    "\n",
    "predicted_array = np.array(predicted)\n",
    "predicted_array *= max_num\n",
    "\n",
    "y_test_array = np.array(y_test)\n",
    "y_test_array *= max_num\n",
    "\n",
    "result = pd.DataFrame(predicted_array)\n",
    "result.columns = ['predict']\n",
    "result['actual'] = y_test_array\n",
    "result.plot()\n",
    "plt.show()"
   ]
  },
  {
   "cell_type": "code",
   "execution_count": 771,
   "metadata": {},
   "outputs": [
    {
     "name": "stdout",
     "output_type": "stream",
     "text": [
      "正解率: 50.0 %\n"
     ]
    }
   ],
   "source": [
    "def updown(actual, predict):\n",
    "    act = np.sign(np.diff(actual))\n",
    "    pre = np.sign(np.diff(predict[:,0]))\n",
    "    tmp =  act*pre>0\n",
    "    return np.sum(tmp)/len(tmp)\n",
    "\n",
    "print(\"正解率:\", updown(y_test, predicted) * 100, \"%\")"
   ]
  },
  {
   "cell_type": "code",
   "execution_count": 772,
   "metadata": {},
   "outputs": [
    {
     "name": "stdout",
     "output_type": "stream",
     "text": [
      "1週間後: 10906.7158203125\n",
      "2週間後: 9945.162109375\n",
      "3週間後: 9111.142578125\n",
      "4週間後: 8628.9228515625\n"
     ]
    }
   ],
   "source": [
    "# １〜４週間後の株価を予測\n",
    "predict_list = []\n",
    "for i in range(4):\n",
    "    X_pre = []\n",
    "    X_pre.append(X[-1:-interval-1:-1])\n",
    "    X_pre_array = np.asarray(X_pre)\n",
    "    y_predict_small = model.predict(X_pre_array) # 予測\n",
    "    result = y_predict_small * max_num\n",
    "    predict_list.append(result)\n",
    "    X = list(X)\n",
    "    X.append(y_predict_small[0][0])\n",
    "    X = pd.Series(X)\n",
    "    print(\"{}週間後: {}\".format(i+1, predict_list[i][0][0]))"
   ]
  },
  {
   "cell_type": "code",
   "execution_count": null,
   "metadata": {},
   "outputs": [],
   "source": []
  }
 ],
 "metadata": {
  "kernelspec": {
   "display_name": "Python 3",
   "language": "python",
   "name": "python3"
  },
  "language_info": {
   "codemirror_mode": {
    "name": "ipython",
    "version": 3
   },
   "file_extension": ".py",
   "mimetype": "text/x-python",
   "name": "python",
   "nbconvert_exporter": "python",
   "pygments_lexer": "ipython3",
   "version": "3.8.2"
  }
 },
 "nbformat": 4,
 "nbformat_minor": 4
}
